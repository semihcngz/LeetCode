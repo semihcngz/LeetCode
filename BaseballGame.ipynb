{
 "cells": [
  {
   "cell_type": "code",
   "execution_count": null,
   "id": "e844f526-bd8a-4a5d-a9b9-88cf269e9d87",
   "metadata": {},
   "outputs": [],
   "source": [
    "class Solution:\n",
    "    def calPoints(self, operations: List[str]) -> int:\n",
    "        result = 0\n",
    "        record = []\n",
    "        for item in operations:\n",
    "\n",
    "            match item:\n",
    "                case 'C':\n",
    "                    x = record.pop()\n",
    "                    result -= x\n",
    "\n",
    "                case 'D':\n",
    "                    doubleNumber = record[-1]\n",
    "                    record.append(2 * doubleNumber)\n",
    "                    result += 2 * doubleNumber\n",
    "\n",
    "                case '+':\n",
    "                    sumNumber = record[-1] + record[-2]\n",
    "                    record.append(sumNumber)\n",
    "                    result += sumNumber\n",
    "\n",
    "                case _:\n",
    "                    y = int(item)\n",
    "                    record.append(y)\n",
    "                    result += y\n",
    "                    \n",
    "        return result\n",
    "                "
   ]
  },
  {
   "cell_type": "code",
   "execution_count": null,
   "id": "33e8deea-7dcd-4413-bf30-1588de162a3c",
   "metadata": {},
   "outputs": [],
   "source": []
  }
 ],
 "metadata": {
  "kernelspec": {
   "display_name": "Python [conda env:base] *",
   "language": "python",
   "name": "conda-base-py"
  },
  "language_info": {
   "codemirror_mode": {
    "name": "ipython",
    "version": 3
   },
   "file_extension": ".py",
   "mimetype": "text/x-python",
   "name": "python",
   "nbconvert_exporter": "python",
   "pygments_lexer": "ipython3",
   "version": "3.13.5"
  }
 },
 "nbformat": 4,
 "nbformat_minor": 5
}
