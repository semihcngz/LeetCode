{
 "cells": [
  {
   "cell_type": "code",
   "execution_count": null,
   "id": "21deb500-2c3d-4179-95f4-c272ccad44c9",
   "metadata": {},
   "outputs": [],
   "source": [
    "class MyStack:\n",
    "\n",
    "    def __init__(self):\n",
    "        self.myQueue = deque()\n",
    "\n",
    "    def push(self, x: int) -> None:\n",
    "        self.myQueue.append(x)\n",
    "\n",
    "    def pop(self) -> int:\n",
    "        for i in range(len(self.myQueue) - 1):\n",
    "            self.myQueue.append(self.myQueue.popleft())\n",
    "        return self.myQueue.popleft()\n",
    "    def top(self) -> int:\n",
    "        return self.myQueue[-1]\n",
    "        \n",
    "\n",
    "    def empty(self) -> bool:\n",
    "        return len(self.myQueue) == 0\n",
    "\n",
    "\n",
    "# Your MyStack object will be instantiated and called as such:\n",
    "# obj = MyStack()\n",
    "# obj.push(x)\n",
    "# param_2 = obj.pop()\n",
    "# param_3 = obj.top()\n",
    "# param_4 = obj.empty()"
   ]
  }
 ],
 "metadata": {
  "kernelspec": {
   "display_name": "Python [conda env:base] *",
   "language": "python",
   "name": "conda-base-py"
  },
  "language_info": {
   "codemirror_mode": {
    "name": "ipython",
    "version": 3
   },
   "file_extension": ".py",
   "mimetype": "text/x-python",
   "name": "python",
   "nbconvert_exporter": "python",
   "pygments_lexer": "ipython3",
   "version": "3.13.5"
  }
 },
 "nbformat": 4,
 "nbformat_minor": 5
}
