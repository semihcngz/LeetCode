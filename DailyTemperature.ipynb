{
 "cells": [
  {
   "cell_type": "code",
   "execution_count": null,
   "id": "df2fc367-a9c1-40fd-a7a4-6703c66f20ca",
   "metadata": {},
   "outputs": [],
   "source": [
    "class Solution:\n",
    "    def dailyTemperatures(self, temperatures: List[int]) -> List[int]:\n",
    "\n",
    "        result = [0 for _ in range(len(temperatures))]\n",
    "        stack = []\n",
    "\n",
    "        for ix, temp in enumerate(temperatures):\n",
    "\n",
    "            while stack and temp > stack[-1][0]:\n",
    "                stackTemp, stackIx = stack.pop()\n",
    "                result[stackIx] = ix - stackIx\n",
    "                \n",
    "            stack.append([temp, ix])\n",
    "            \n",
    "        return result"
   ]
  }
 ],
 "metadata": {
  "kernelspec": {
   "display_name": "Python [conda env:base] *",
   "language": "python",
   "name": "conda-base-py"
  },
  "language_info": {
   "codemirror_mode": {
    "name": "ipython",
    "version": 3
   },
   "file_extension": ".py",
   "mimetype": "text/x-python",
   "name": "python",
   "nbconvert_exporter": "python",
   "pygments_lexer": "ipython3",
   "version": "3.13.5"
  }
 },
 "nbformat": 4,
 "nbformat_minor": 5
}
